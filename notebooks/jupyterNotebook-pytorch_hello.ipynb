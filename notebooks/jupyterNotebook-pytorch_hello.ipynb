{
 "cells": [
  {
   "cell_type": "markdown",
   "metadata": {
    "id": "oS4la9TuWnmE"
   },
   "source": [
    "# Data Loading "
   ]
  },
  {
   "cell_type": "markdown",
   "metadata": {},
   "source": [
    "Outline of the steps involved in creating and training a classification model to predict whether a photo was taken in 19th or 20th century. Briefly, the steps will be:\n",
    "\n",
    "- Load the data\n",
    "- Create a model\n",
    "- Train the model"
   ]
  },
  {
   "cell_type": "code",
   "execution_count": null,
   "metadata": {
    "id": "8mVtRLmP4qtR"
   },
   "outputs": [],
   "source": [
    "import os\n",
    "import glob\n",
    "import torch\n",
    "import torchvision\n",
    "from PIL import Image\n",
    "import random\n",
    "from tqdm.auto import tqdm as tqdm\n",
    "import torch.nn as nn\n",
    "import torch.nn.functional as F\n",
    "import torch.optim as optim\n",
    "from matplotlib import pyplot as plt\n",
    "import numpy"
   ]
  },
  {
   "cell_type": "markdown",
   "metadata": {
    "id": "yJuRmhD6W2wm"
   },
   "source": [
    "Checking for device:"
   ]
  },
  {
   "cell_type": "code",
   "execution_count": null,
   "metadata": {
    "colab": {
     "base_uri": "https://localhost:8080/"
    },
    "id": "rWrW1v2m4_iK",
    "outputId": "44f9479d-59de-495b-b4fc-b6fc52c5f27b"
   },
   "outputs": [],
   "source": [
    "device = torch.device('cuda' if torch.cuda.is_available() else 'cpu')\n",
    "print(f\"Working on {device}\")"
   ]
  },
  {
   "cell_type": "markdown",
   "metadata": {
    "id": "t7Vj6rDkW8Ob"
   },
   "source": [
    "# Preprocessing\n",
    "\n",
    "Usually, we are going to start to build our Deep Learning pipeline with preprocessing (=transformation process).\n",
    "\n",
    "One type of transformation that we do on images is to transform an image into a PyTorch tensor. This is a process to change the original values of image pixels to a set of new values."
   ]
  },
  {
   "cell_type": "code",
   "execution_count": null,
   "metadata": {
    "id": "8z4Pah9l5vdT"
   },
   "outputs": [],
   "source": [
    "preprocess = torchvision.transforms.Compose([\n",
    "    lambda x:x.convert(\"RGB\"),\n",
    "    torchvision.transforms.Resize((224,224)), #make sure, all the pictures are the same size\n",
    "    torchvision.transforms.ToTensor(),\n",
    "    torchvision.transforms.Normalize([0.5,0.5,0.5], [0.5,0.5,0.5])\n",
    "])"
   ]
  },
  {
   "cell_type": "markdown",
   "metadata": {
    "id": "K2YB380_XH9V"
   },
   "source": [
    "### Why images of the same size (and channels)?\n",
    "\n",
    "Variable sized images cannot be combined in a batch!\n",
    "\n",
    "_A batch, for PyTorch, will be transformed to a single Tensor input with one extra dimension. For example, if you provide a list of n images, each of the size [1, 3, 384, 320], PyTorch will stack them, so that your model has a single Tensor input, of the shape [n, 1, 3, 384, 320]. This \"stacking\" can only happen between images of the same shape.\n",
    "(https://stackoverflow.com/questions/62719641/why-pytorch-model-takes-multiple-image-size-inside-the-model)_\n",
    "\n",
    "\n",
    "#### Why normalization?\n",
    "\n",
    "_The normalization of images is a very good practice when we work with deep neural networks. Normalizing the images means transforming the images into such values that the mean and standard deviation of the image become 0.0 and 1.0 respectively. Normalization helps get data within a range and reduces the skewness which helps learn faster and better. Normalization can also tackle the diminishing and exploding gradients problems. \n",
    "(https://www.geeksforgeeks.org/how-to-normalize-images-in-pytorch/)_"
   ]
  },
  {
   "cell_type": "markdown",
   "metadata": {
    "id": "A76X6NKeXPdt"
   },
   "source": [
    "# PyTorch Dataset and DataLoader\n",
    "\n",
    "#### ImageFolder\n",
    "\n",
    "This class helps us to easily create PyTorch training and validation datasets __without writing custom classes__. Then we can use these datasets to create our __iterable data loaders__.\n",
    "\n",
    "Option 1 - ImageFolder class (https://pytorch.org/vision/main/generated/torchvision.datasets.ImageFolder.html) \n",
    "\n",
    "Option 2 - a custom class (https://pytorch.org/tutorials/beginner/basics/data_tutorial.html?highlight=dataset)\n",
    "\n",
    "\n",
    "## Iterable data loaders?\n",
    "\n",
    "Training a whole dataset might be very time-consuming and can cause a memory-oveload, if we did gradient calculation on whole data. \n",
    "\n",
    "A better way is to divide samples into smaller batches. To do that, we will create a Dataloader, that helps load data into a model. Dataloader will basically make a batch iteration and calculation for us.  \n",
    "\n",
    "_(DataLoader class is available in the torch.utils.data module.)_\n",
    "\n",
    "__DataLoader will be used in our training loop.__\n",
    "\n",
    "You need to parse the data as a PyTorch Dataset before passing it to DataLoader!"
   ]
  },
  {
   "cell_type": "code",
   "execution_count": null,
   "metadata": {
    "id": "I5GnYcugXdSm"
   },
   "outputs": [],
   "source": [
    "# #Dataloader --> Option 1:\n",
    "\n",
    "# #Path to directory containig ...\n",
    "# img_dir='../data/century_ds/'\n",
    "\n",
    "# batch_size = 32\n",
    "# labels = (\"19\",\"20\")\n",
    "\n",
    "# orig_ds = torchvision.datasets.ImageFolder(img_dir,transform=preprocess)\n",
    "# #Our dataset is now in the form of PyTorch Dataset\n",
    "\n",
    "# #Next step is to devide the dataset into Training and Test dataset\n",
    "\n",
    "# # get num of indices\n",
    "# i_num = len(orig_ds)\n",
    "\n",
    "# # generate & shuffle indices\n",
    "# indices = numpy.arange(i_num)\n",
    "# indices = numpy.random.permutation(indices)\n",
    "\n",
    "# train_indices = indices [:800]\n",
    "# test_indices = indices[800:]\n",
    "\n",
    "\n",
    "# train_ds = torch.utils.data.Subset(orig_ds, train_indices)  # first 800\n",
    "# test_ds = torch.utils.data.Subset(orig_ds, test_indices)  # last 498\n",
    "\n",
    "# train_dl = torch.utils.data.DataLoader(train_ds, batch_size = batch_size, shuffle = True)\n",
    "# test_dl = torch.utils.data.DataLoader(test_ds, batch_size = batch_size, shuffle = True)\n"
   ]
  },
  {
   "cell_type": "code",
   "execution_count": null,
   "metadata": {
    "colab": {
     "base_uri": "https://localhost:8080/"
    },
    "id": "RDsqfHnZXpkL",
    "outputId": "c82dfaf4-e7f6-4dd6-e9f8-9592f85a9d8a"
   },
   "outputs": [],
   "source": [
    "#Dataloader --> Option 2:\n",
    "\n",
    "#List of paths to images...\n",
    "\n",
    "img_paths=list(glob.glob(\"../data/century_ds/*/*.jpg\"))\n",
    "print(f\"Loaded {len(img_paths)} images\")\n",
    "\n",
    "#Shuffle\n",
    "shuffled_paths = [p for p in img_paths]\n",
    "random.Random(1337).shuffle(shuffled_paths) # Random(1337); Stabillity while mixing classes for balanced partitioning\n",
    "\n",
    "train_paths, test_paths = shuffled_paths[:800], shuffled_paths[800:]\n",
    "\n",
    "default_labels = (\"19\",\"20\")\n",
    "class CenturyDs(object):\n",
    "    def __init__(self, img_paths, labels=default_labels, preprocessor=preprocess, label_idx=-2):\n",
    "        self.img_paths = img_paths\n",
    "        self.preprocessor=preprocessor\n",
    "        self.labels = [cl for cl in labels]\n",
    "        self.label_idx = label_idx\n",
    "\n",
    "    def __getitem__(self, n):\n",
    "        path = self.img_paths[n]\n",
    "        img = Image.open(path) # Img is a PIL.Image\n",
    "        img = self.preprocessor(img)# Img is now a 3D tensor\n",
    "        label = path.split(\"/\")[self.label_idx]\n",
    "        #print(f\"path:{path}  label:{label}\")\n",
    "        cl_id = self.labels.index(label)  # id is 0,1\n",
    "        return img, cl_id\n",
    "        \n",
    "    def __len__(self):\n",
    "        return len(self.img_paths)\n",
    "\n",
    "\n",
    "train_ds = CenturyDs(train_paths,preprocessor = preprocess)\n",
    "test_ds = CenturyDs(test_paths,preprocessor = preprocess)\n",
    "\n",
    "batch_size = 32\n",
    "\n",
    "train_dl = torch.utils.data.DataLoader(train_ds, batch_size = batch_size, shuffle = True)\n",
    "test_dl = torch.utils.data.DataLoader(test_ds, batch_size = batch_size, shuffle = True)"
   ]
  },
  {
   "cell_type": "code",
   "execution_count": null,
   "metadata": {
    "colab": {
     "base_uri": "https://localhost:8080/",
     "height": 304
    },
    "id": "411wmsDU9k4q",
    "outputId": "2d334042-e475-459a-fa25-eb36af563994"
   },
   "outputs": [],
   "source": [
    "x, y = train_ds[9]\n",
    "plt.imshow(x.numpy()[0])\n",
    "print(y)\n",
    "print(x.shape)"
   ]
  },
  {
   "cell_type": "markdown",
   "metadata": {
    "id": "ccmxODy0Ym0z"
   },
   "source": [
    "# --------------------------------------------------------------------------------------------------------------------------------------------"
   ]
  },
  {
   "cell_type": "markdown",
   "metadata": {
    "id": "nX7KTKMEZCOM"
   },
   "source": [
    "# Create a model"
   ]
  },
  {
   "cell_type": "code",
   "execution_count": null,
   "metadata": {
    "colab": {
     "base_uri": "https://localhost:8080/"
    },
    "id": "WtuZc3WV9viw",
    "outputId": "44926f4b-3f6e-4243-e5d2-09b66ff443df"
   },
   "outputs": [],
   "source": [
    "class OurNet(nn.Module):\n",
    "    def __init__(self, n_channels=3):\n",
    "        super().__init__()\n",
    "        self.conv1 = nn.Conv2d(n_channels, 16, 5)\n",
    "        self.pool1 = nn.MaxPool2d(2, 2)\n",
    "        self.conv2 = nn.Conv2d(16, 32, 5)\n",
    "        self.pool2 = nn.MaxPool2d(2, 2)\n",
    "        \n",
    "        self.conv3 = nn.Conv2d(32, 64, 3)\n",
    "        self.pool3 = nn.MaxPool2d(2, 2)\n",
    "        self.conv4 = nn.Conv2d(64, 128, 3)\n",
    "        self.pool4 = nn.MaxPool2d(2, 2)\n",
    "        \n",
    "        self.conv5 = nn.Conv2d(128, 256, 3)\n",
    "        self.pool5 = nn.MaxPool2d(2, 2)\n",
    "        self.conv6 = nn.Conv2d(256, 512, 3)\n",
    "        self.pool6 = nn.MaxPool2d(2, 2)\n",
    "        \n",
    "        self.fc1 = nn.Linear(512, 1024)\n",
    "        self.fc2 = nn.Linear(1024, 768)\n",
    "        self.fc3 = nn.Linear(768, 2)\n",
    "\n",
    "    def forward(self, x):\n",
    "        x = self.pool1(F.relu(self.conv1(x)))\n",
    "        x = self.pool2(F.relu(self.conv2(x)))\n",
    "        x = self.pool3(F.relu(self.conv3(x)))\n",
    "        x = self.pool4(F.relu(self.conv4(x)))\n",
    "        x = self.pool5(F.relu(self.conv5(x)))\n",
    "        x = self.pool6(F.relu(self.conv6(x)))\n",
    "        #print(x.size())\n",
    "        x = torch.flatten(x, 1) # flatten all dimensions except batch\n",
    "        x = F.relu(self.fc1(x))\n",
    "        x = F.relu(self.fc2(x))\n",
    "        x = self.fc3(x)\n",
    "        return x\n",
    "\n",
    "def count_parameters(model):\n",
    "  return sum([t.view(-1).size(0) for t in model.parameters()])\n",
    "\n",
    "print(f\"OurNet size={count_parameters(OurNet())}\")"
   ]
  },
  {
   "cell_type": "code",
   "execution_count": null,
   "metadata": {
    "id": "VIhHDzO2-0bu"
   },
   "outputs": [],
   "source": [
    "model = OurNet(n_channels=3)\n",
    "\n",
    "lr = 1e-3 # 1e-3 is a default lr value for Adam\n",
    "optimizer = optim.Adam(model.parameters(), lr=lr)\n",
    "\n",
    "lossfn = nn.CrossEntropyLoss()\n"
   ]
  },
  {
   "cell_type": "markdown",
   "metadata": {
    "id": "-eaZby8bZL35"
   },
   "source": [
    "### Training"
   ]
  },
  {
   "cell_type": "code",
   "execution_count": null,
   "metadata": {
    "id": "a9TCkAZt_HB_"
   },
   "outputs": [],
   "source": [
    "\n",
    "\n",
    "def train_epoch(dl, model, optimiser, lossfn, device=device, epochnum=-1):\n",
    "    model = model.to(device) # redundant\n",
    "    model.train(True) # make it train mode\n",
    "    predictions, targets, losses = [], [], []\n",
    "    \n",
    "    for input_batch, target_batch in tqdm(dl):\n",
    "        input_batch, target_batch = input_batch.to(device), target_batch.to(device)\n",
    "        optimiser.zero_grad() # reset gradient accumulation\n",
    "        output_batch = model(input_batch)\n",
    "        _, batch_prediction = output_batch.detach().max(dim=1)\n",
    "        loss = lossfn(output_batch,target_batch)\n",
    "        loss.backward()# minize\n",
    "        optimiser.step() # apply gradients on the weight\n",
    "        _, batch_prediction = output_batch.detach().max(dim=1)\n",
    "        losses.append(loss.detach())\n",
    "        predictions.append(batch_prediction)\n",
    "        targets.append(target_batch.detach())\n",
    "    predictions, targets = [torch.cat(t, dim=0).cpu().numpy() for t in (predictions, targets)]\n",
    "    acc = (predictions==targets).mean()\n",
    "    return acc, predictions, targets, losses \n",
    "\n"
   ]
  },
  {
   "cell_type": "markdown",
   "metadata": {
    "id": "YxRrIJ7dZSvm"
   },
   "source": [
    "### Evaluation"
   ]
  },
  {
   "cell_type": "code",
   "execution_count": null,
   "metadata": {
    "colab": {
     "base_uri": "https://localhost:8080/",
     "height": 66,
     "referenced_widgets": [
      "57c90951ff6146a29da7be6dd1485268",
      "4c8c40cfb45146c682f3e5410f14236f",
      "5e199aa0bd7548d9b96f70d3d77230fc",
      "c7d2744c8a7e4bb590aaf8cb37db1ff1",
      "fdf1d87432f4400584be1025ff9dfedb",
      "ebb20d58027045208cea76ff0f00460d",
      "cd13e2a31f804da396c773cd8a7dee9b",
      "8c10f4d45a994074b39a4048c4899a4d",
      "9d876cb71a8f48dfb7f30cd46562fdc5",
      "1de29e3c07f5415293f70c25b3eadd88",
      "c4f9b66b28024bec832c2469232a8636"
     ]
    },
    "id": "07C63sdfBaE7",
    "outputId": "84058b79-38cd-4539-aea7-43fb9de38a9d"
   },
   "outputs": [],
   "source": [
    "def eval_epoch(dl, model, device=device):\n",
    "    model = model.to(device) # redundant\n",
    "    model.train(False) # no train mode\n",
    "    predictions, targets = [], []\n",
    "    with torch.no_grad():\n",
    "        for input_batch, target_batch in tqdm(dl):\n",
    "            input_batch, target_batch = input_batch.to(device), target_batch.to(device)\n",
    "            output_batch = model(input_batch)\n",
    "            confidence, batch_prediction = output_batch.max(dim=1)\n",
    "            predictions.append(batch_prediction)\n",
    "            targets.append(target_batch)\n",
    "\n",
    "    predictions, targets = [torch.cat(t, dim=0).cpu().numpy() for t in (predictions, targets)]\n",
    "    acc = (predictions==targets).mean()\n",
    "    # anguelos: better avoid printing inside a function returning accuracy\n",
    "    return acc, predictions, targets, confidence\n",
    "\n",
    "#eval_epoch() before the model was trained\n",
    "accuracy, all_predictions, all_gt, confidences = eval_epoch(test_dl, model, device=device)\n",
    "print(accuracy)"
   ]
  },
  {
   "cell_type": "markdown",
   "metadata": {
    "id": "Q1eiwvWHZYBQ"
   },
   "source": [
    "# Train the model\n",
    "\n",
    "### Optimizing and evaluating the model over the number of epochs:"
   ]
  },
  {
   "cell_type": "code",
   "execution_count": null,
   "metadata": {
    "colab": {
     "base_uri": "https://localhost:8080/",
     "height": 49,
     "referenced_widgets": [
      "fffda54ff6344b8d8e8acbbc61112435",
      "476b6e22d5dc46609e2bbd89a1bf769d",
      "724dfb3b432d4726a98772f0788f9020",
      "c216f881ef914b229bca3996853acbdb",
      "cc9bcbb662b24ad19fcfa4b36d441471",
      "d8babd8700ce455cb3365be350cb33d5",
      "fb462342210d40399c3f90a734cb4870",
      "5a6ffaf4c0804864afea4c17b1ca4822",
      "1a317afc4e254401bd48de72415b36d8",
      "ef0747267a794325b0ca4b186ee37155",
      "4308e65565f14feeb7dd9c9e5cd61050"
     ]
    },
    "id": "LP_GX8rkNQ-n",
    "outputId": "6f42fb9c-37dd-4707-c76f-b48f75cd162d"
   },
   "outputs": [],
   "source": [
    "for epoch in range(3):\n",
    "    tr_acc, tr_predictions, tr_targets, tr_losses = train_epoch(train_dl, model, optimizer, lossfn, device=device)\n",
    "    val_acc, val_predictions, val_targets, val_confidences = eval_epoch(test_dl, model, device=device)"
   ]
  },
  {
   "cell_type": "code",
   "execution_count": null,
   "metadata": {
    "id": "zeeZsIm1Vu48"
   },
   "outputs": [],
   "source": [
    "accuracy, all_predictions, all_gt, confidences = eval_epoch(test_dl, model, device=device)\n",
    "print(accuracy)"
   ]
  }
 ],
 "metadata": {
  "colab": {
   "provenance": []
  },
  "hide_input": false,
  "kernelspec": {
   "display_name": "Python 3 (ipykernel)",
   "language": "python",
   "name": "python3"
  },
  "language_info": {
   "codemirror_mode": {
    "name": "ipython",
    "version": 3
   },
   "file_extension": ".py",
   "mimetype": "text/x-python",
   "name": "python",
   "nbconvert_exporter": "python",
   "pygments_lexer": "ipython3",
   "version": "3.8.10"
  },
  "widgets": {
   "application/vnd.jupyter.widget-state+json": {
    "1a317afc4e254401bd48de72415b36d8": {
     "model_module": "@jupyter-widgets/controls",
     "model_module_version": "1.5.0",
     "model_name": "ProgressStyleModel",
     "state": {
      "_model_module": "@jupyter-widgets/controls",
      "_model_module_version": "1.5.0",
      "_model_name": "ProgressStyleModel",
      "_view_count": null,
      "_view_module": "@jupyter-widgets/base",
      "_view_module_version": "1.2.0",
      "_view_name": "StyleView",
      "bar_color": null,
      "description_width": ""
     }
    },
    "1de29e3c07f5415293f70c25b3eadd88": {
     "model_module": "@jupyter-widgets/base",
     "model_module_version": "1.2.0",
     "model_name": "LayoutModel",
     "state": {
      "_model_module": "@jupyter-widgets/base",
      "_model_module_version": "1.2.0",
      "_model_name": "LayoutModel",
      "_view_count": null,
      "_view_module": "@jupyter-widgets/base",
      "_view_module_version": "1.2.0",
      "_view_name": "LayoutView",
      "align_content": null,
      "align_items": null,
      "align_self": null,
      "border": null,
      "bottom": null,
      "display": null,
      "flex": null,
      "flex_flow": null,
      "grid_area": null,
      "grid_auto_columns": null,
      "grid_auto_flow": null,
      "grid_auto_rows": null,
      "grid_column": null,
      "grid_gap": null,
      "grid_row": null,
      "grid_template_areas": null,
      "grid_template_columns": null,
      "grid_template_rows": null,
      "height": null,
      "justify_content": null,
      "justify_items": null,
      "left": null,
      "margin": null,
      "max_height": null,
      "max_width": null,
      "min_height": null,
      "min_width": null,
      "object_fit": null,
      "object_position": null,
      "order": null,
      "overflow": null,
      "overflow_x": null,
      "overflow_y": null,
      "padding": null,
      "right": null,
      "top": null,
      "visibility": null,
      "width": null
     }
    },
    "4308e65565f14feeb7dd9c9e5cd61050": {
     "model_module": "@jupyter-widgets/controls",
     "model_module_version": "1.5.0",
     "model_name": "DescriptionStyleModel",
     "state": {
      "_model_module": "@jupyter-widgets/controls",
      "_model_module_version": "1.5.0",
      "_model_name": "DescriptionStyleModel",
      "_view_count": null,
      "_view_module": "@jupyter-widgets/base",
      "_view_module_version": "1.2.0",
      "_view_name": "StyleView",
      "description_width": ""
     }
    },
    "476b6e22d5dc46609e2bbd89a1bf769d": {
     "model_module": "@jupyter-widgets/controls",
     "model_module_version": "1.5.0",
     "model_name": "HTMLModel",
     "state": {
      "_dom_classes": [],
      "_model_module": "@jupyter-widgets/controls",
      "_model_module_version": "1.5.0",
      "_model_name": "HTMLModel",
      "_view_count": null,
      "_view_module": "@jupyter-widgets/controls",
      "_view_module_version": "1.5.0",
      "_view_name": "HTMLView",
      "description": "",
      "description_tooltip": null,
      "layout": "IPY_MODEL_d8babd8700ce455cb3365be350cb33d5",
      "placeholder": "​",
      "style": "IPY_MODEL_fb462342210d40399c3f90a734cb4870",
      "value": "  8%"
     }
    },
    "4c8c40cfb45146c682f3e5410f14236f": {
     "model_module": "@jupyter-widgets/controls",
     "model_module_version": "1.5.0",
     "model_name": "HTMLModel",
     "state": {
      "_dom_classes": [],
      "_model_module": "@jupyter-widgets/controls",
      "_model_module_version": "1.5.0",
      "_model_name": "HTMLModel",
      "_view_count": null,
      "_view_module": "@jupyter-widgets/controls",
      "_view_module_version": "1.5.0",
      "_view_name": "HTMLView",
      "description": "",
      "description_tooltip": null,
      "layout": "IPY_MODEL_ebb20d58027045208cea76ff0f00460d",
      "placeholder": "​",
      "style": "IPY_MODEL_cd13e2a31f804da396c773cd8a7dee9b",
      "value": "100%"
     }
    },
    "57c90951ff6146a29da7be6dd1485268": {
     "model_module": "@jupyter-widgets/controls",
     "model_module_version": "1.5.0",
     "model_name": "HBoxModel",
     "state": {
      "_dom_classes": [],
      "_model_module": "@jupyter-widgets/controls",
      "_model_module_version": "1.5.0",
      "_model_name": "HBoxModel",
      "_view_count": null,
      "_view_module": "@jupyter-widgets/controls",
      "_view_module_version": "1.5.0",
      "_view_name": "HBoxView",
      "box_style": "",
      "children": [
       "IPY_MODEL_4c8c40cfb45146c682f3e5410f14236f",
       "IPY_MODEL_5e199aa0bd7548d9b96f70d3d77230fc",
       "IPY_MODEL_c7d2744c8a7e4bb590aaf8cb37db1ff1"
      ],
      "layout": "IPY_MODEL_fdf1d87432f4400584be1025ff9dfedb"
     }
    },
    "5a6ffaf4c0804864afea4c17b1ca4822": {
     "model_module": "@jupyter-widgets/base",
     "model_module_version": "1.2.0",
     "model_name": "LayoutModel",
     "state": {
      "_model_module": "@jupyter-widgets/base",
      "_model_module_version": "1.2.0",
      "_model_name": "LayoutModel",
      "_view_count": null,
      "_view_module": "@jupyter-widgets/base",
      "_view_module_version": "1.2.0",
      "_view_name": "LayoutView",
      "align_content": null,
      "align_items": null,
      "align_self": null,
      "border": null,
      "bottom": null,
      "display": null,
      "flex": null,
      "flex_flow": null,
      "grid_area": null,
      "grid_auto_columns": null,
      "grid_auto_flow": null,
      "grid_auto_rows": null,
      "grid_column": null,
      "grid_gap": null,
      "grid_row": null,
      "grid_template_areas": null,
      "grid_template_columns": null,
      "grid_template_rows": null,
      "height": null,
      "justify_content": null,
      "justify_items": null,
      "left": null,
      "margin": null,
      "max_height": null,
      "max_width": null,
      "min_height": null,
      "min_width": null,
      "object_fit": null,
      "object_position": null,
      "order": null,
      "overflow": null,
      "overflow_x": null,
      "overflow_y": null,
      "padding": null,
      "right": null,
      "top": null,
      "visibility": null,
      "width": null
     }
    },
    "5e199aa0bd7548d9b96f70d3d77230fc": {
     "model_module": "@jupyter-widgets/controls",
     "model_module_version": "1.5.0",
     "model_name": "FloatProgressModel",
     "state": {
      "_dom_classes": [],
      "_model_module": "@jupyter-widgets/controls",
      "_model_module_version": "1.5.0",
      "_model_name": "FloatProgressModel",
      "_view_count": null,
      "_view_module": "@jupyter-widgets/controls",
      "_view_module_version": "1.5.0",
      "_view_name": "ProgressView",
      "bar_style": "success",
      "description": "",
      "description_tooltip": null,
      "layout": "IPY_MODEL_8c10f4d45a994074b39a4048c4899a4d",
      "max": 16,
      "min": 0,
      "orientation": "horizontal",
      "style": "IPY_MODEL_9d876cb71a8f48dfb7f30cd46562fdc5",
      "value": 16
     }
    },
    "724dfb3b432d4726a98772f0788f9020": {
     "model_module": "@jupyter-widgets/controls",
     "model_module_version": "1.5.0",
     "model_name": "FloatProgressModel",
     "state": {
      "_dom_classes": [],
      "_model_module": "@jupyter-widgets/controls",
      "_model_module_version": "1.5.0",
      "_model_name": "FloatProgressModel",
      "_view_count": null,
      "_view_module": "@jupyter-widgets/controls",
      "_view_module_version": "1.5.0",
      "_view_name": "ProgressView",
      "bar_style": "",
      "description": "",
      "description_tooltip": null,
      "layout": "IPY_MODEL_5a6ffaf4c0804864afea4c17b1ca4822",
      "max": 25,
      "min": 0,
      "orientation": "horizontal",
      "style": "IPY_MODEL_1a317afc4e254401bd48de72415b36d8",
      "value": 2
     }
    },
    "8c10f4d45a994074b39a4048c4899a4d": {
     "model_module": "@jupyter-widgets/base",
     "model_module_version": "1.2.0",
     "model_name": "LayoutModel",
     "state": {
      "_model_module": "@jupyter-widgets/base",
      "_model_module_version": "1.2.0",
      "_model_name": "LayoutModel",
      "_view_count": null,
      "_view_module": "@jupyter-widgets/base",
      "_view_module_version": "1.2.0",
      "_view_name": "LayoutView",
      "align_content": null,
      "align_items": null,
      "align_self": null,
      "border": null,
      "bottom": null,
      "display": null,
      "flex": null,
      "flex_flow": null,
      "grid_area": null,
      "grid_auto_columns": null,
      "grid_auto_flow": null,
      "grid_auto_rows": null,
      "grid_column": null,
      "grid_gap": null,
      "grid_row": null,
      "grid_template_areas": null,
      "grid_template_columns": null,
      "grid_template_rows": null,
      "height": null,
      "justify_content": null,
      "justify_items": null,
      "left": null,
      "margin": null,
      "max_height": null,
      "max_width": null,
      "min_height": null,
      "min_width": null,
      "object_fit": null,
      "object_position": null,
      "order": null,
      "overflow": null,
      "overflow_x": null,
      "overflow_y": null,
      "padding": null,
      "right": null,
      "top": null,
      "visibility": null,
      "width": null
     }
    },
    "9d876cb71a8f48dfb7f30cd46562fdc5": {
     "model_module": "@jupyter-widgets/controls",
     "model_module_version": "1.5.0",
     "model_name": "ProgressStyleModel",
     "state": {
      "_model_module": "@jupyter-widgets/controls",
      "_model_module_version": "1.5.0",
      "_model_name": "ProgressStyleModel",
      "_view_count": null,
      "_view_module": "@jupyter-widgets/base",
      "_view_module_version": "1.2.0",
      "_view_name": "StyleView",
      "bar_color": null,
      "description_width": ""
     }
    },
    "c216f881ef914b229bca3996853acbdb": {
     "model_module": "@jupyter-widgets/controls",
     "model_module_version": "1.5.0",
     "model_name": "HTMLModel",
     "state": {
      "_dom_classes": [],
      "_model_module": "@jupyter-widgets/controls",
      "_model_module_version": "1.5.0",
      "_model_name": "HTMLModel",
      "_view_count": null,
      "_view_module": "@jupyter-widgets/controls",
      "_view_module_version": "1.5.0",
      "_view_name": "HTMLView",
      "description": "",
      "description_tooltip": null,
      "layout": "IPY_MODEL_ef0747267a794325b0ca4b186ee37155",
      "placeholder": "​",
      "style": "IPY_MODEL_4308e65565f14feeb7dd9c9e5cd61050",
      "value": " 2/25 [00:07&lt;01:23,  3.65s/it]"
     }
    },
    "c4f9b66b28024bec832c2469232a8636": {
     "model_module": "@jupyter-widgets/controls",
     "model_module_version": "1.5.0",
     "model_name": "DescriptionStyleModel",
     "state": {
      "_model_module": "@jupyter-widgets/controls",
      "_model_module_version": "1.5.0",
      "_model_name": "DescriptionStyleModel",
      "_view_count": null,
      "_view_module": "@jupyter-widgets/base",
      "_view_module_version": "1.2.0",
      "_view_name": "StyleView",
      "description_width": ""
     }
    },
    "c7d2744c8a7e4bb590aaf8cb37db1ff1": {
     "model_module": "@jupyter-widgets/controls",
     "model_module_version": "1.5.0",
     "model_name": "HTMLModel",
     "state": {
      "_dom_classes": [],
      "_model_module": "@jupyter-widgets/controls",
      "_model_module_version": "1.5.0",
      "_model_name": "HTMLModel",
      "_view_count": null,
      "_view_module": "@jupyter-widgets/controls",
      "_view_module_version": "1.5.0",
      "_view_name": "HTMLView",
      "description": "",
      "description_tooltip": null,
      "layout": "IPY_MODEL_1de29e3c07f5415293f70c25b3eadd88",
      "placeholder": "​",
      "style": "IPY_MODEL_c4f9b66b28024bec832c2469232a8636",
      "value": " 16/16 [01:01&lt;00:00,  2.64s/it]"
     }
    },
    "cc9bcbb662b24ad19fcfa4b36d441471": {
     "model_module": "@jupyter-widgets/base",
     "model_module_version": "1.2.0",
     "model_name": "LayoutModel",
     "state": {
      "_model_module": "@jupyter-widgets/base",
      "_model_module_version": "1.2.0",
      "_model_name": "LayoutModel",
      "_view_count": null,
      "_view_module": "@jupyter-widgets/base",
      "_view_module_version": "1.2.0",
      "_view_name": "LayoutView",
      "align_content": null,
      "align_items": null,
      "align_self": null,
      "border": null,
      "bottom": null,
      "display": null,
      "flex": null,
      "flex_flow": null,
      "grid_area": null,
      "grid_auto_columns": null,
      "grid_auto_flow": null,
      "grid_auto_rows": null,
      "grid_column": null,
      "grid_gap": null,
      "grid_row": null,
      "grid_template_areas": null,
      "grid_template_columns": null,
      "grid_template_rows": null,
      "height": null,
      "justify_content": null,
      "justify_items": null,
      "left": null,
      "margin": null,
      "max_height": null,
      "max_width": null,
      "min_height": null,
      "min_width": null,
      "object_fit": null,
      "object_position": null,
      "order": null,
      "overflow": null,
      "overflow_x": null,
      "overflow_y": null,
      "padding": null,
      "right": null,
      "top": null,
      "visibility": null,
      "width": null
     }
    },
    "cd13e2a31f804da396c773cd8a7dee9b": {
     "model_module": "@jupyter-widgets/controls",
     "model_module_version": "1.5.0",
     "model_name": "DescriptionStyleModel",
     "state": {
      "_model_module": "@jupyter-widgets/controls",
      "_model_module_version": "1.5.0",
      "_model_name": "DescriptionStyleModel",
      "_view_count": null,
      "_view_module": "@jupyter-widgets/base",
      "_view_module_version": "1.2.0",
      "_view_name": "StyleView",
      "description_width": ""
     }
    },
    "d8babd8700ce455cb3365be350cb33d5": {
     "model_module": "@jupyter-widgets/base",
     "model_module_version": "1.2.0",
     "model_name": "LayoutModel",
     "state": {
      "_model_module": "@jupyter-widgets/base",
      "_model_module_version": "1.2.0",
      "_model_name": "LayoutModel",
      "_view_count": null,
      "_view_module": "@jupyter-widgets/base",
      "_view_module_version": "1.2.0",
      "_view_name": "LayoutView",
      "align_content": null,
      "align_items": null,
      "align_self": null,
      "border": null,
      "bottom": null,
      "display": null,
      "flex": null,
      "flex_flow": null,
      "grid_area": null,
      "grid_auto_columns": null,
      "grid_auto_flow": null,
      "grid_auto_rows": null,
      "grid_column": null,
      "grid_gap": null,
      "grid_row": null,
      "grid_template_areas": null,
      "grid_template_columns": null,
      "grid_template_rows": null,
      "height": null,
      "justify_content": null,
      "justify_items": null,
      "left": null,
      "margin": null,
      "max_height": null,
      "max_width": null,
      "min_height": null,
      "min_width": null,
      "object_fit": null,
      "object_position": null,
      "order": null,
      "overflow": null,
      "overflow_x": null,
      "overflow_y": null,
      "padding": null,
      "right": null,
      "top": null,
      "visibility": null,
      "width": null
     }
    },
    "ebb20d58027045208cea76ff0f00460d": {
     "model_module": "@jupyter-widgets/base",
     "model_module_version": "1.2.0",
     "model_name": "LayoutModel",
     "state": {
      "_model_module": "@jupyter-widgets/base",
      "_model_module_version": "1.2.0",
      "_model_name": "LayoutModel",
      "_view_count": null,
      "_view_module": "@jupyter-widgets/base",
      "_view_module_version": "1.2.0",
      "_view_name": "LayoutView",
      "align_content": null,
      "align_items": null,
      "align_self": null,
      "border": null,
      "bottom": null,
      "display": null,
      "flex": null,
      "flex_flow": null,
      "grid_area": null,
      "grid_auto_columns": null,
      "grid_auto_flow": null,
      "grid_auto_rows": null,
      "grid_column": null,
      "grid_gap": null,
      "grid_row": null,
      "grid_template_areas": null,
      "grid_template_columns": null,
      "grid_template_rows": null,
      "height": null,
      "justify_content": null,
      "justify_items": null,
      "left": null,
      "margin": null,
      "max_height": null,
      "max_width": null,
      "min_height": null,
      "min_width": null,
      "object_fit": null,
      "object_position": null,
      "order": null,
      "overflow": null,
      "overflow_x": null,
      "overflow_y": null,
      "padding": null,
      "right": null,
      "top": null,
      "visibility": null,
      "width": null
     }
    },
    "ef0747267a794325b0ca4b186ee37155": {
     "model_module": "@jupyter-widgets/base",
     "model_module_version": "1.2.0",
     "model_name": "LayoutModel",
     "state": {
      "_model_module": "@jupyter-widgets/base",
      "_model_module_version": "1.2.0",
      "_model_name": "LayoutModel",
      "_view_count": null,
      "_view_module": "@jupyter-widgets/base",
      "_view_module_version": "1.2.0",
      "_view_name": "LayoutView",
      "align_content": null,
      "align_items": null,
      "align_self": null,
      "border": null,
      "bottom": null,
      "display": null,
      "flex": null,
      "flex_flow": null,
      "grid_area": null,
      "grid_auto_columns": null,
      "grid_auto_flow": null,
      "grid_auto_rows": null,
      "grid_column": null,
      "grid_gap": null,
      "grid_row": null,
      "grid_template_areas": null,
      "grid_template_columns": null,
      "grid_template_rows": null,
      "height": null,
      "justify_content": null,
      "justify_items": null,
      "left": null,
      "margin": null,
      "max_height": null,
      "max_width": null,
      "min_height": null,
      "min_width": null,
      "object_fit": null,
      "object_position": null,
      "order": null,
      "overflow": null,
      "overflow_x": null,
      "overflow_y": null,
      "padding": null,
      "right": null,
      "top": null,
      "visibility": null,
      "width": null
     }
    },
    "fb462342210d40399c3f90a734cb4870": {
     "model_module": "@jupyter-widgets/controls",
     "model_module_version": "1.5.0",
     "model_name": "DescriptionStyleModel",
     "state": {
      "_model_module": "@jupyter-widgets/controls",
      "_model_module_version": "1.5.0",
      "_model_name": "DescriptionStyleModel",
      "_view_count": null,
      "_view_module": "@jupyter-widgets/base",
      "_view_module_version": "1.2.0",
      "_view_name": "StyleView",
      "description_width": ""
     }
    },
    "fdf1d87432f4400584be1025ff9dfedb": {
     "model_module": "@jupyter-widgets/base",
     "model_module_version": "1.2.0",
     "model_name": "LayoutModel",
     "state": {
      "_model_module": "@jupyter-widgets/base",
      "_model_module_version": "1.2.0",
      "_model_name": "LayoutModel",
      "_view_count": null,
      "_view_module": "@jupyter-widgets/base",
      "_view_module_version": "1.2.0",
      "_view_name": "LayoutView",
      "align_content": null,
      "align_items": null,
      "align_self": null,
      "border": null,
      "bottom": null,
      "display": null,
      "flex": null,
      "flex_flow": null,
      "grid_area": null,
      "grid_auto_columns": null,
      "grid_auto_flow": null,
      "grid_auto_rows": null,
      "grid_column": null,
      "grid_gap": null,
      "grid_row": null,
      "grid_template_areas": null,
      "grid_template_columns": null,
      "grid_template_rows": null,
      "height": null,
      "justify_content": null,
      "justify_items": null,
      "left": null,
      "margin": null,
      "max_height": null,
      "max_width": null,
      "min_height": null,
      "min_width": null,
      "object_fit": null,
      "object_position": null,
      "order": null,
      "overflow": null,
      "overflow_x": null,
      "overflow_y": null,
      "padding": null,
      "right": null,
      "top": null,
      "visibility": null,
      "width": null
     }
    },
    "fffda54ff6344b8d8e8acbbc61112435": {
     "model_module": "@jupyter-widgets/controls",
     "model_module_version": "1.5.0",
     "model_name": "HBoxModel",
     "state": {
      "_dom_classes": [],
      "_model_module": "@jupyter-widgets/controls",
      "_model_module_version": "1.5.0",
      "_model_name": "HBoxModel",
      "_view_count": null,
      "_view_module": "@jupyter-widgets/controls",
      "_view_module_version": "1.5.0",
      "_view_name": "HBoxView",
      "box_style": "",
      "children": [
       "IPY_MODEL_476b6e22d5dc46609e2bbd89a1bf769d",
       "IPY_MODEL_724dfb3b432d4726a98772f0788f9020",
       "IPY_MODEL_c216f881ef914b229bca3996853acbdb"
      ],
      "layout": "IPY_MODEL_cc9bcbb662b24ad19fcfa4b36d441471"
     }
    }
   }
  }
 },
 "nbformat": 4,
 "nbformat_minor": 1
}
