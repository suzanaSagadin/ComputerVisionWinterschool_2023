{
 "cells": [
  {
   "cell_type": "markdown",
   "id": "651b54a7",
   "metadata": {
    "id": "651b54a7"
   },
   "source": [
    "# Dive into data: Finding and Preparing Data"
   ]
  },
  {
   "cell_type": "markdown",
   "id": "e6e1d6f1",
   "metadata": {
    "hide_input": false,
    "id": "e6e1d6f1"
   },
   "source": [
    "##### The first practical part is about data.\n",
    "\n",
    "Computer Vision Winterschool 2023 Example:\n",
    "Image classifier that assigns images to one of two categories based on labeled training data - __estimating the date of origin of the photos (19th or 20th century)__\n",
    "\n",
    "To train such a model we need __photos with corresponding labels__, meaning with the known date of origin, in our case 19th or 20th century.\n",
    "\n",
    "### Goal of this Session:\n",
    "- get the images\n",
    "- make a custom Pytorch dataset"
   ]
  },
  {
   "cell_type": "markdown",
   "id": "3893b813",
   "metadata": {
    "hide_input": false,
    "id": "3893b813"
   },
   "source": [
    "# 1. open/download .csv\n",
    "\n",
    "https://github.com/suzanaSagadin/ComputerVisionWinterschool_2023/blob/main/vif.csv\n",
    "\n",
    "# 2. get comfortable with it \n",
    "\n",
    "\n",
    "# 3. what do we need?\n",
    "\n",
    "\n",
    "# 4. how can we get the photos (psudocode)\n",
    "CheatSheat\n"
   ]
  },
  {
   "cell_type": "code",
   "execution_count": null,
   "id": "cabc90d0",
   "metadata": {},
   "outputs": [],
   "source": []
  },
  {
   "cell_type": "code",
   "execution_count": null,
   "id": "8a2efa2b",
   "metadata": {},
   "outputs": [],
   "source": []
  },
  {
   "cell_type": "code",
   "execution_count": null,
   "id": "814f0926",
   "metadata": {},
   "outputs": [],
   "source": []
  },
  {
   "cell_type": "code",
   "execution_count": null,
   "id": "059507e8",
   "metadata": {},
   "outputs": [],
   "source": []
  },
  {
   "cell_type": "code",
   "execution_count": null,
   "id": "f8ec8f8b",
   "metadata": {},
   "outputs": [],
   "source": []
  },
  {
   "cell_type": "code",
   "execution_count": null,
   "id": "b943709f",
   "metadata": {},
   "outputs": [],
   "source": []
  },
  {
   "cell_type": "code",
   "execution_count": null,
   "id": "9ccb747b",
   "metadata": {},
   "outputs": [],
   "source": []
  },
  {
   "cell_type": "code",
   "execution_count": null,
   "id": "7f8f98a1",
   "metadata": {},
   "outputs": [],
   "source": []
  },
  {
   "cell_type": "code",
   "execution_count": null,
   "id": "29a42d40",
   "metadata": {},
   "outputs": [],
   "source": []
  },
  {
   "cell_type": "code",
   "execution_count": null,
   "id": "1bd93763",
   "metadata": {
    "id": "1bd93763"
   },
   "outputs": [],
   "source": [
    "\n",
    "# for index, row in tqdm(df2.head(5).iterrows()):\n",
    "#     img_name = row['Permalink'].split(':')[2]\n",
    "\n",
    "#     r = requests.get(row['Image 1'])\n",
    "#     r.raise_for_status()\n",
    "#     if row['GT'] == '19':\n",
    "#         with open('/century_ds/19/' + img_name + '.jpg', 'wb') as f:\n",
    "#             f.write(r.content)\n",
    "#             #add a delay of 0.2 second to avoid a 429 error\n",
    "#             time.sleep(0.2)\n",
    "#     else:\n",
    "#         with open('/century_ds/20/' + img_name + '.jpg', 'wb') as f:\n",
    "#             f.write(r.content)\n",
    "#             #add a delay of 0.2 second to avoid a 429 error\n",
    "#             time.sleep(0.2)\n"
   ]
  }
 ],
 "metadata": {
  "colab": {
   "provenance": []
  },
  "hide_input": false,
  "kernelspec": {
   "display_name": "Python 3 (ipykernel)",
   "language": "python",
   "name": "python3"
  },
  "language_info": {
   "codemirror_mode": {
    "name": "ipython",
    "version": 3
   },
   "file_extension": ".py",
   "mimetype": "text/x-python",
   "name": "python",
   "nbconvert_exporter": "python",
   "pygments_lexer": "ipython3",
   "version": "3.8.10"
  }
 },
 "nbformat": 4,
 "nbformat_minor": 5
}
