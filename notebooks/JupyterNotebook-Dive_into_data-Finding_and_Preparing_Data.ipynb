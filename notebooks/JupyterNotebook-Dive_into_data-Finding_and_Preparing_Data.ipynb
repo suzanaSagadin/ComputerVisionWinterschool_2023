{
 "cells": [
  {
   "cell_type": "markdown",
   "id": "651b54a7",
   "metadata": {},
   "source": [
    "# Dive into data: Finding and Preparing Data"
   ]
  },
  {
   "cell_type": "markdown",
   "id": "e6e1d6f1",
   "metadata": {
    "hide_input": false
   },
   "source": [
    "##### The first practical part is about data.\n",
    "\n",
    "Computer Vision Winterschool 2023 Example:\n",
    "Image classifier that assigns images to one of two categories based on labeled training data - __estimating the date of origin of the photos (19th or 20th century)__\n",
    "\n",
    "To train such a model we need __photos with corresponding labels__, meaning with the known date of origin, in our case 19th or 20th century.\n",
    "\n",
    "### Goal of this Session:\n",
    "- get the images\n",
    "- make a custom Pytorch dataset"
   ]
  },
  {
   "cell_type": "markdown",
   "id": "3893b813",
   "metadata": {
    "hide_input": false
   },
   "source": [
    "# 1. download .csv\n",
    "\n",
    "\n",
    "# 2. get comfortable with it \n",
    "\n",
    "\n",
    "# 3. what do we need?\n",
    "\n",
    "\n",
    "# 4. how can we get the photos (psudocode)\n",
    "CheatSheat\n"
   ]
  },
  {
   "cell_type": "markdown",
   "id": "61c00af5",
   "metadata": {},
   "source": [
    "# Example:"
   ]
  },
  {
   "cell_type": "markdown",
   "id": "d0d02638",
   "metadata": {},
   "source": [
    "We now know that we need to filter the entries by type and date to get the photos that are relevant to us.\n",
    "\n",
    "There are many ways to do this. A very popular library that can help us do this is Pandas, a library for Python to process, analyze and display data."
   ]
  },
  {
   "cell_type": "code",
   "execution_count": null,
   "id": "c6b17aba",
   "metadata": {},
   "outputs": [],
   "source": [
    "import pandas as pd\n",
    "import requests\n",
    "import time\n",
    "import os\n",
    "import numpy as np"
   ]
  },
  {
   "cell_type": "code",
   "execution_count": null,
   "id": "26a6eaba",
   "metadata": {
    "hide_input": false,
    "scrolled": true
   },
   "outputs": [],
   "source": [
    "print(os.system(\"pwd\"))"
   ]
  },
  {
   "cell_type": "code",
   "execution_count": null,
   "id": "a1b9cbc5",
   "metadata": {},
   "outputs": [],
   "source": [
    "#read csv to dataframe\n",
    "df = pd.read_csv('../vif.csv', encoding='utf8')\n",
    "#print(df)"
   ]
  },
  {
   "cell_type": "code",
   "execution_count": null,
   "id": "743f3d2d",
   "metadata": {
    "hide_input": true
   },
   "outputs": [],
   "source": [
    "#strip all string values of the dataframe to remove unwanted whitespaces and newlines\n",
    "\n",
    "df_obj = df.select_dtypes(['object'])\n",
    "df[df_obj.columns] = df_obj.apply(lambda x: x.str.strip())"
   ]
  },
  {
   "cell_type": "code",
   "execution_count": null,
   "id": "d9155ea2",
   "metadata": {
    "hide_input": false
   },
   "outputs": [],
   "source": [
    "#Replacing blank values (white space) with NaN in pandas\n",
    "\n",
    "df = df.replace(r'^\\s*$', np.nan, regex=True)\n",
    "#print(df)"
   ]
  },
  {
   "cell_type": "code",
   "execution_count": null,
   "id": "ce26e6cf",
   "metadata": {
    "scrolled": false
   },
   "outputs": [],
   "source": [
    "#get all different values of the column 'Type'\n",
    "print(df['Type'].unique())"
   ]
  },
  {
   "cell_type": "code",
   "execution_count": null,
   "id": "e1628804",
   "metadata": {},
   "outputs": [],
   "source": [
    "#count type\n",
    "print(len(df[df['Type'] == 'Photograph']))"
   ]
  },
  {
   "cell_type": "code",
   "execution_count": null,
   "id": "c09db588",
   "metadata": {},
   "outputs": [],
   "source": [
    "#copy the dataframe to a new dataframe where the column 'Type' is equal to 'Photograph'\n",
    "\n",
    "df2 = df[df['Type'] == 'Photograph']"
   ]
  },
  {
   "cell_type": "code",
   "execution_count": null,
   "id": "7d407527",
   "metadata": {},
   "outputs": [],
   "source": [
    "#delete entries where the column 'Date (From)' is empty\n",
    "\n",
    "df2 = df2.dropna(subset=['Date (From)'])"
   ]
  },
  {
   "cell_type": "code",
   "execution_count": null,
   "id": "bf654a0a",
   "metadata": {
    "hide_input": false
   },
   "outputs": [],
   "source": [
    "#df2['Date (From)'] = df2['Date (From)'].astype('Int32')\n",
    "#df2['Date (To)'] = df2['Date (To)'].astype('Int32')\n",
    "\n",
    "df2['Date (From)'] = df2['Date (From)'].astype('float').astype('Int32')\n",
    "df2['Date (To)'] = df2['Date (To)'].astype('float').astype('Int32')\n",
    "\n",
    "#TypeError: object cannot be converted to an IntegerDtype\n",
    "#https://stackoverflow.com/questions/60024262/error-converting-object-string-to-int32-typeerror-object-cannot-be-converted"
   ]
  },
  {
   "cell_type": "code",
   "execution_count": null,
   "id": "8c82960b",
   "metadata": {},
   "outputs": [],
   "source": [
    "#delete entries where the column 'Date (From)' is less then 1900 and column 'Date (To)' is greater then 1900\n",
    "\n",
    "df2 = df2.drop(df2[(df2['Date (From)'] < 1900) & (df2['Date (To)'] >= 1900)].index)\n",
    "\n",
    "#TypeError: '<' not supported between instances of 'str' and 'int'"
   ]
  },
  {
   "cell_type": "code",
   "execution_count": null,
   "id": "bd19d76c",
   "metadata": {},
   "outputs": [],
   "source": [
    "#delete entries where the column 'Date (From)' is less then 1900 and column 'Date (Appendix)' is 'after'\n",
    "\n",
    "df2 = df2.drop(df2[(df2['Date (From)'] < 1900) & (df2['Date (Appendix)'] == 'after')].index)\n"
   ]
  },
  {
   "cell_type": "code",
   "execution_count": null,
   "id": "6fbcb6ea",
   "metadata": {},
   "outputs": [],
   "source": [
    "#delete entries where the column 'Date (From)' is greater then 1900 and column 'Date (Appendix)' is 'before'\n",
    "\n",
    "df2 = df2.drop(df2[(df2['Date (From)'] > 1900) & (df2['Date (Appendix)'] == 'before')].index)\n"
   ]
  },
  {
   "cell_type": "code",
   "execution_count": null,
   "id": "f36738aa",
   "metadata": {},
   "outputs": [],
   "source": [
    "#delete entries where the column 'Date (From)' is greater or equal 2000\n",
    "\n",
    "df2 = df2.drop(df2[(df2['Date (From)'] >= 2000)].index)\n"
   ]
  },
  {
   "cell_type": "markdown",
   "id": "a37e0007",
   "metadata": {},
   "source": [
    "It turns out that we only need IMAGE 1. \n",
    "Now that we have filtered the entries, let's think about the best way to organize the photos locally for our PyTorch dataset.\n",
    "\n",
    "Basically, we have many options. Two common approaches are: \n",
    "\n",
    "- we have a directory per GT (label)\n",
    "- we have a directory and a .csv file for it (with names of the photos and associated GT)"
   ]
  },
  {
   "cell_type": "code",
   "execution_count": null,
   "id": "de455513",
   "metadata": {},
   "outputs": [],
   "source": [
    "#add a new empty column 'GT' to the dataframe\n",
    "\n",
    "df2['GT'] = ''"
   ]
  },
  {
   "cell_type": "code",
   "execution_count": null,
   "id": "5ecb0cc2",
   "metadata": {},
   "outputs": [],
   "source": [
    "#add 19 to the column 'GT' if the column 'Date (To)' is less or equal 1900 or column 'Date (From)' is less or equal 1900 and column 'Date (Appendix)' is 'before' or column 'Date (From)' is less than 1900 and column 'Date (Appendix)' and column 'Date (To)' are empty\n",
    "\n",
    "df2.loc[(df2['Date (To)'] <= 1900) | ((df2['Date (From)'] <= 1900) & (df2['Date (Appendix)'] == 'before')) | ((df2['Date (From)'] < 1900) & (df2['Date (Appendix)'].isnull()) & (df2['Date (To)'].isnull())), 'GT'] = '19'"
   ]
  },
  {
   "cell_type": "code",
   "execution_count": null,
   "id": "da66d821",
   "metadata": {},
   "outputs": [],
   "source": [
    "#add 20 to the column 'GT' if the column 'Date (From)' is greater or equal 1900\n",
    "\n",
    "df2.loc[(df2['Date (From)'] >= 1900), 'GT'] = '20'"
   ]
  },
  {
   "cell_type": "code",
   "execution_count": null,
   "id": "32915c25",
   "metadata": {},
   "outputs": [],
   "source": [
    "#count entries\n",
    "print(len(df2))"
   ]
  },
  {
   "cell_type": "code",
   "execution_count": null,
   "id": "47c848c8",
   "metadata": {},
   "outputs": [],
   "source": [
    "#exprot to csv\n",
    "\n",
    "df2.to_csv('../photographs.csv', index=False, encoding='utf8')"
   ]
  },
  {
   "cell_type": "code",
   "execution_count": null,
   "id": "1bd93763",
   "metadata": {},
   "outputs": [],
   "source": [
    "#download the images from the dataframe column 'Image 1' and save them with the name of the column 'Permalink' withouth the 'https://gams.uni-graz.at/archive/objects/o:' and with the file extension '.jpg', in the folder 'images/19/' if the column 'GT' is equal to '19' and in the folder 'images/20/' if the column 'GT' is equal to '20'\n",
    "\n",
    "\n",
    "#create directories if they don't exist\n",
    "os.makedirs('../data/century_ds/19')\n",
    "os.makedirs('../data/century_ds/20')\n",
    "\n",
    "for index, row in df2.head(10).iterrows(): #remove .head(10) if you want to download all the pictures; in this example you will get only first 9 of it (all in the directory 19)\n",
    "    img_name = row['Permalink'].split(':')[2]\n",
    "\n",
    "    r = requests.get(row['Image 1'])\n",
    "    r.raise_for_status()\n",
    "    if row['GT'] == '19':\n",
    "        with open('../data/century_ds/19/' + img_name + '.jpg', 'wb') as f:\n",
    "            f.write(r.content)\n",
    "            #add a delay of 0.2 second to avoid a 429 error\n",
    "            time.sleep(0.2)\n",
    "    else:\n",
    "        with open('../data/century_ds/20/' + img_name + '.jpg', 'wb') as f:\n",
    "            f.write(r.content)\n",
    "            #add a delay of 0.2 second to avoid a 429 error\n",
    "            time.sleep(0.2)"
   ]
  }
 ],
 "metadata": {
  "hide_input": false,
  "kernelspec": {
   "display_name": "Python 3 (ipykernel)",
   "language": "python",
   "name": "python3"
  },
  "language_info": {
   "codemirror_mode": {
    "name": "ipython",
    "version": 3
   },
   "file_extension": ".py",
   "mimetype": "text/x-python",
   "name": "python",
   "nbconvert_exporter": "python",
   "pygments_lexer": "ipython3",
   "version": "3.8.10"
  }
 },
 "nbformat": 4,
 "nbformat_minor": 5
}
